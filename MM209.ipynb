{
  "cells":[
    {
      "cell_type":"code",
      "source":[
        "import numpy as np\n",
        "import pandas as pd\n",
        "pd.options.mode.chained_assignment = None"
      ],
      "execution_count":15,
      "outputs":[
        
      ],
      "metadata":{
        
      }
    },
    {
      "cell_type":"code",
      "source":[
        "df=pd.read_csv(\"MM209_Project - Sheet1.csv\")"
      ],
      "execution_count":16,
      "outputs":[
        
      ],
      "metadata":{
        
      }
    },
    {
      "cell_type":"code",
      "source":[
        "df"
      ],
      "execution_count":17,
      "outputs":[
        {
          "data":{
            "text\/html":[
              "<div>\n",
              "<style scoped>\n",
              "    .dataframe tbody tr th:only-of-type {\n",
              "        vertical-align: middle;\n",
              "    }\n",
              "\n",
              "    .dataframe tbody tr th {\n",
              "        vertical-align: top;\n",
              "    }\n",
              "\n",
              "    .dataframe thead th {\n",
              "        text-align: right;\n",
              "    }\n",
              "<\/style>\n",
              "<table border=\"1\" class=\"dataframe\">\n",
              "  <thead>\n",
              "    <tr style=\"text-align: right;\">\n",
              "      <th><\/th>\n",
              "      <th>Metal<\/th>\n",
              "      <th>Metal Oxide<\/th>\n",
              "      <th>DeltaH0<\/th>\n",
              "      <th>DeltaS0<\/th>\n",
              "      <th>Slope change T<\/th>\n",
              "      <th>New DeltaH0<\/th>\n",
              "      <th>New DeltaS0<\/th>\n",
              "    <\/tr>\n",
              "  <\/thead>\n",
              "  <tbody>\n",
              "    <tr>\n",
              "      <th>0<\/th>\n",
              "      <td>Ca<\/td>\n",
              "      <td>CaO<\/td>\n",
              "      <td>-1280<\/td>\n",
              "      <td>-0.22<\/td>\n",
              "      <td>NaN<\/td>\n",
              "      <td>NaN<\/td>\n",
              "      <td>NaN<\/td>\n",
              "    <\/tr>\n",
              "    <tr>\n",
              "      <th>1<\/th>\n",
              "      <td>Mg<\/td>\n",
              "      <td>MgO<\/td>\n",
              "      <td>-1202<\/td>\n",
              "      <td>-0.22<\/td>\n",
              "      <td>1365.0<\/td>\n",
              "      <td>-1459.0<\/td>\n",
              "      <td>-0.41<\/td>\n",
              "    <\/tr>\n",
              "    <tr>\n",
              "      <th>2<\/th>\n",
              "      <td>Al<\/td>\n",
              "      <td>Al2O3<\/td>\n",
              "      <td>-1125<\/td>\n",
              "      <td>-0.22<\/td>\n",
              "      <td>NaN<\/td>\n",
              "      <td>NaN<\/td>\n",
              "      <td>NaN<\/td>\n",
              "    <\/tr>\n",
              "    <tr>\n",
              "      <th>3<\/th>\n",
              "      <td>Ti<\/td>\n",
              "      <td>TiO2<\/td>\n",
              "      <td>-941<\/td>\n",
              "      <td>-0.18<\/td>\n",
              "      <td>NaN<\/td>\n",
              "      <td>NaN<\/td>\n",
              "      <td>NaN<\/td>\n",
              "    <\/tr>\n",
              "    <tr>\n",
              "      <th>4<\/th>\n",
              "      <td>Nb<\/td>\n",
              "      <td>NbO<\/td>\n",
              "      <td>-825<\/td>\n",
              "      <td>-0.17<\/td>\n",
              "      <td>NaN<\/td>\n",
              "      <td>NaN<\/td>\n",
              "      <td>NaN<\/td>\n",
              "    <\/tr>\n",
              "    <tr>\n",
              "      <th>5<\/th>\n",
              "      <td>Mn<\/td>\n",
              "      <td>MnO<\/td>\n",
              "      <td>-778<\/td>\n",
              "      <td>-0.15<\/td>\n",
              "      <td>NaN<\/td>\n",
              "      <td>NaN<\/td>\n",
              "      <td>NaN<\/td>\n",
              "    <\/tr>\n",
              "    <tr>\n",
              "      <th>6<\/th>\n",
              "      <td>Cr<\/td>\n",
              "      <td>Cr2O3<\/td>\n",
              "      <td>-740<\/td>\n",
              "      <td>-0.16<\/td>\n",
              "      <td>NaN<\/td>\n",
              "      <td>NaN<\/td>\n",
              "      <td>NaN<\/td>\n",
              "    <\/tr>\n",
              "    <tr>\n",
              "      <th>7<\/th>\n",
              "      <td>Fe<\/td>\n",
              "      <td>FeO<\/td>\n",
              "      <td>-538<\/td>\n",
              "      <td>-0.14<\/td>\n",
              "      <td>NaN<\/td>\n",
              "      <td>NaN<\/td>\n",
              "      <td>NaN<\/td>\n",
              "    <\/tr>\n",
              "    <tr>\n",
              "      <th>8<\/th>\n",
              "      <td>Co<\/td>\n",
              "      <td>CoO<\/td>\n",
              "      <td>-491<\/td>\n",
              "      <td>-0.16<\/td>\n",
              "      <td>NaN<\/td>\n",
              "      <td>NaN<\/td>\n",
              "      <td>NaN<\/td>\n",
              "    <\/tr>\n",
              "    <tr>\n",
              "      <th>9<\/th>\n",
              "      <td>Ni<\/td>\n",
              "      <td>NiO<\/td>\n",
              "      <td>-471<\/td>\n",
              "      <td>-0.17<\/td>\n",
              "      <td>NaN<\/td>\n",
              "      <td>NaN<\/td>\n",
              "      <td>NaN<\/td>\n",
              "    <\/tr>\n",
              "  <\/tbody>\n",
              "<\/table>\n",
              "<\/div>"
            ]
          },
          "metadata":{
            
          },
          "output_type":"display_data"
        }
      ],
      "metadata":{
        
      }
    },
    {
      "cell_type":"code",
      "source":[
        "#Code to add new metal\n",
        "#User can uncomment the below line and add a new metal to the above existing data frame after \n",
        "#entering the required values\n",
        "#df.loc[len(df.index)] =[Metal,Metal Oxide,DeltaH0,DeltaS0,Slope change T,New DeltaH0,New DeltaS0]"
      ],
      "execution_count":18,
      "outputs":[
        
      ],
      "metadata":{
        
      }
    },
    {
      "cell_type":"code",
      "source":[
        "#Data for formation of water from H2 and 02\n",
        "#2H2 + 02=2H20\n",
        "DeltaH0=-495*1000\n",
        "DeltaS0=-0.11*1000"
      ],
      "execution_count":19,
      "outputs":[
        
      ],
      "metadata":{
        
      }
    },
    {
      "cell_type":"code",
      "source":[
        "#Accepting the temperature value\n",
        "T=input(\"Enter the temperature: \")"
      ],
      "execution_count":20,
      "outputs":[
        {
          "name":"stdout",
          "text":[
            "Enter the temperature:  1600\n"
          ],
          "output_type":"stream"
        }
      ],
      "metadata":{
        
      }
    },
    {
      "cell_type":"code",
      "source":[
        "#Calculation of equilibrium constant for the reaction 2H2 + O2= 2H20\n",
        "T=int(T)\n",
        "DeltaG0= DeltaH0 -T * DeltaS0\n",
        "Kc=np.exp(-DeltaG0\/(8.314*T))"
      ],
      "execution_count":21,
      "outputs":[
        
      ],
      "metadata":{
        
      }
    },
    {
      "cell_type":"code",
      "source":[
        "df1=df[df['Slope change T'].isnull()] #DataFrame for metals with a linear DeltaG0\n",
        "df2=df[~(df['Slope change T'].isnull())]#DataFrame for metals with a DeltaG0 whose slope changes\n",
        "df1['DeltaG0']=df1['DeltaH0']-T*df1['DeltaS0']\n",
        "df1.dropna(axis=1,inplace=True)\n",
        "df2['DeltaG0']=0\n",
        "for ind in df2.index:\n",
        "    if T>=df2['Slope change T'][ind]:\n",
        "        df2['DeltaG0'][ind]=df2['New DeltaH0'][ind]-T*df2['New DeltaS0'][ind]\n",
        "    else:\n",
        "        df2['DeltaG0'][ind]=df2['DeltaH0'][ind]-T*df2['DeltaS0'][ind]"
      ],
      "execution_count":22,
      "outputs":[
        
      ],
      "metadata":{
        
      }
    },
    {
      "cell_type":"code",
      "source":[
        "df1['Kc']=np.exp(-df1['DeltaG0']*1000\/(8.314*T))\n",
        "df2['Kc']=np.exp(-df2['DeltaG0']*1000\/(8.314*T))\n",
        "#Kc=1\/p02\n",
        "df1['p02']=1\/(df1['Kc'])\n",
        "df2['p02']=1\/(df2['Kc'])"
      ],
      "execution_count":23,
      "outputs":[
        
      ],
      "metadata":{
        
      }
    },
    {
      "cell_type":"code",
      "source":[
        "#Kc for water formation = ((pH20\/pH2)^2)\/p02\n",
        "df1['pH20\/pH2']=np.sqrt(Kc*df1['p02'])\n",
        "df2['pH20\/pH2']=np.sqrt(Kc*df2['p02'])"
      ],
      "execution_count":24,
      "outputs":[
        
      ],
      "metadata":{
        
      }
    },
    {
      "cell_type":"code",
      "source":[
        "df1"
      ],
      "execution_count":25,
      "outputs":[
        {
          "data":{
            "text\/html":[
              "<div>\n",
              "<style scoped>\n",
              "    .dataframe tbody tr th:only-of-type {\n",
              "        vertical-align: middle;\n",
              "    }\n",
              "\n",
              "    .dataframe tbody tr th {\n",
              "        vertical-align: top;\n",
              "    }\n",
              "\n",
              "    .dataframe thead th {\n",
              "        text-align: right;\n",
              "    }\n",
              "<\/style>\n",
              "<table border=\"1\" class=\"dataframe\">\n",
              "  <thead>\n",
              "    <tr style=\"text-align: right;\">\n",
              "      <th><\/th>\n",
              "      <th>Metal<\/th>\n",
              "      <th>Metal Oxide<\/th>\n",
              "      <th>DeltaH0<\/th>\n",
              "      <th>DeltaS0<\/th>\n",
              "      <th>DeltaG0<\/th>\n",
              "      <th>Kc<\/th>\n",
              "      <th>p02<\/th>\n",
              "      <th>pH20\/pH2<\/th>\n",
              "    <\/tr>\n",
              "  <\/thead>\n",
              "  <tbody>\n",
              "    <tr>\n",
              "      <th>0<\/th>\n",
              "      <td>Ca<\/td>\n",
              "      <td>CaO<\/td>\n",
              "      <td>-1280<\/td>\n",
              "      <td>-0.22<\/td>\n",
              "      <td>-928.0<\/td>\n",
              "      <td>1.982373e+30<\/td>\n",
              "      <td>5.044459e-31<\/td>\n",
              "      <td>1.144817e-10<\/td>\n",
              "    <\/tr>\n",
              "    <tr>\n",
              "      <th>2<\/th>\n",
              "      <td>Al<\/td>\n",
              "      <td>Al2O3<\/td>\n",
              "      <td>-1125<\/td>\n",
              "      <td>-0.22<\/td>\n",
              "      <td>-773.0<\/td>\n",
              "      <td>1.724932e+25<\/td>\n",
              "      <td>5.797331e-26<\/td>\n",
              "      <td>3.880992e-08<\/td>\n",
              "    <\/tr>\n",
              "    <tr>\n",
              "      <th>3<\/th>\n",
              "      <td>Ti<\/td>\n",
              "      <td>TiO2<\/td>\n",
              "      <td>-941<\/td>\n",
              "      <td>-0.18<\/td>\n",
              "      <td>-653.0<\/td>\n",
              "      <td>2.084646e+21<\/td>\n",
              "      <td>4.796977e-22<\/td>\n",
              "      <td>3.530308e-06<\/td>\n",
              "    <\/tr>\n",
              "    <tr>\n",
              "      <th>4<\/th>\n",
              "      <td>Nb<\/td>\n",
              "      <td>NbO<\/td>\n",
              "      <td>-825<\/td>\n",
              "      <td>-0.17<\/td>\n",
              "      <td>-553.0<\/td>\n",
              "      <td>1.133051e+18<\/td>\n",
              "      <td>8.825727e-19<\/td>\n",
              "      <td>1.514272e-04<\/td>\n",
              "    <\/tr>\n",
              "    <tr>\n",
              "      <th>5<\/th>\n",
              "      <td>Mn<\/td>\n",
              "      <td>MnO<\/td>\n",
              "      <td>-778<\/td>\n",
              "      <td>-0.15<\/td>\n",
              "      <td>-538.0<\/td>\n",
              "      <td>3.668868e+17<\/td>\n",
              "      <td>2.725637e-18<\/td>\n",
              "      <td>2.661109e-04<\/td>\n",
              "    <\/tr>\n",
              "    <tr>\n",
              "      <th>6<\/th>\n",
              "      <td>Cr<\/td>\n",
              "      <td>Cr2O3<\/td>\n",
              "      <td>-740<\/td>\n",
              "      <td>-0.16<\/td>\n",
              "      <td>-484.0<\/td>\n",
              "      <td>6.332122e+15<\/td>\n",
              "      <td>1.579249e-16<\/td>\n",
              "      <td>2.025602e-03<\/td>\n",
              "    <\/tr>\n",
              "    <tr>\n",
              "      <th>7<\/th>\n",
              "      <td>Fe<\/td>\n",
              "      <td>FeO<\/td>\n",
              "      <td>-538<\/td>\n",
              "      <td>-0.14<\/td>\n",
              "      <td>-314.0<\/td>\n",
              "      <td>1.784096e+10<\/td>\n",
              "      <td>5.605078e-11<\/td>\n",
              "      <td>1.206756e+00<\/td>\n",
              "    <\/tr>\n",
              "    <tr>\n",
              "      <th>8<\/th>\n",
              "      <td>Co<\/td>\n",
              "      <td>CoO<\/td>\n",
              "      <td>-491<\/td>\n",
              "      <td>-0.16<\/td>\n",
              "      <td>-235.0<\/td>\n",
              "      <td>4.701537e+07<\/td>\n",
              "      <td>2.126964e-08<\/td>\n",
              "      <td>2.350763e+01<\/td>\n",
              "    <\/tr>\n",
              "    <tr>\n",
              "      <th>9<\/th>\n",
              "      <td>Ni<\/td>\n",
              "      <td>NiO<\/td>\n",
              "      <td>-471<\/td>\n",
              "      <td>-0.17<\/td>\n",
              "      <td>-199.0<\/td>\n",
              "      <td>3.139916e+06<\/td>\n",
              "      <td>3.184799e-07<\/td>\n",
              "      <td>9.096404e+01<\/td>\n",
              "    <\/tr>\n",
              "  <\/tbody>\n",
              "<\/table>\n",
              "<\/div>"
            ]
          },
          "metadata":{
            
          },
          "output_type":"display_data"
        }
      ],
      "metadata":{
        
      }
    },
    {
      "cell_type":"code",
      "source":[
        "from lets_plot import *\n",
        "ggplot(df1) + geom_bar(aes(fill=\"pH20\/pH2\", x=\"Metal\", y=\"pH20\/pH2\"), stat='identity')"
      ],
      "execution_count":26,
      "outputs":[
        {
          "data":{
            "text\/html":[
              "<html lang=\"en\">\n",
              "   <head>\n",
              "       <script type=\"text\/javascript\" data-lets-plot-script=\"library\" src=\"https:\/\/cdn.jsdelivr.net\/gh\/JetBrains\/lets-plot@v2.2.0\/js-package\/distr\/lets-plot.min.js\"><\/script>\n",
              "   <\/head>\n",
              "   <body>\n",
              "          <div id=\"cChQvj\"><\/div>\n",
              "   <script type=\"text\/javascript\" data-lets-plot-script=\"plot\">\n",
              "       var plotSpec={\n",
              "\"data\":{\n",
              "\"Metal\":[\"Ca\",\"Al \",\"Ti \",\"Nb\",\"Mn \",\"Cr \",\"Fe \",\"Co \",\"Ni \"],\n",
              "\"pH20\/pH2\":[1.1448169137224141E-10,3.880992405345265E-8,3.530307531793608E-6,1.514272357623472E-4,2.6611093007741776E-4,0.002025601914132934,1.2067562944103254,23.507628699611832,90.96404123160205]\n",
              "},\n",
              "\"mapping\":{\n",
              "},\n",
              "\"data_meta\":{\n",
              "},\n",
              "\"kind\":\"plot\",\n",
              "\"scales\":[],\n",
              "\"layers\":[{\n",
              "\"geom\":\"bar\",\n",
              "\"stat\":\"identity\",\n",
              "\"mapping\":{\n",
              "\"x\":\"Metal\",\n",
              "\"y\":\"pH20\/pH2\",\n",
              "\"fill\":\"pH20\/pH2\"\n",
              "},\n",
              "\"data_meta\":{\n",
              "},\n",
              "\"data\":{\n",
              "}\n",
              "}]\n",
              "};\n",
              "       var plotContainer = document.getElementById(\"cChQvj\");\n",
              "       LetsPlot.buildPlotFromProcessedSpecs(plotSpec, -1, -1, plotContainer);\n",
              "   <\/script>\n",
              "   <\/body>\n",
              "<\/html>"
            ]
          },
          "metadata":{
            
          },
          "output_type":"display_data"
        }
      ],
      "metadata":{
        
      }
    },
    {
      "cell_type":"code",
      "source":[
        "df2"
      ],
      "execution_count":27,
      "outputs":[
        {
          "data":{
            "text\/html":[
              "<div>\n",
              "<style scoped>\n",
              "    .dataframe tbody tr th:only-of-type {\n",
              "        vertical-align: middle;\n",
              "    }\n",
              "\n",
              "    .dataframe tbody tr th {\n",
              "        vertical-align: top;\n",
              "    }\n",
              "\n",
              "    .dataframe thead th {\n",
              "        text-align: right;\n",
              "    }\n",
              "<\/style>\n",
              "<table border=\"1\" class=\"dataframe\">\n",
              "  <thead>\n",
              "    <tr style=\"text-align: right;\">\n",
              "      <th><\/th>\n",
              "      <th>Metal<\/th>\n",
              "      <th>Metal Oxide<\/th>\n",
              "      <th>DeltaH0<\/th>\n",
              "      <th>DeltaS0<\/th>\n",
              "      <th>Slope change T<\/th>\n",
              "      <th>New DeltaH0<\/th>\n",
              "      <th>New DeltaS0<\/th>\n",
              "      <th>DeltaG0<\/th>\n",
              "      <th>Kc<\/th>\n",
              "      <th>p02<\/th>\n",
              "      <th>pH20\/pH2<\/th>\n",
              "    <\/tr>\n",
              "  <\/thead>\n",
              "  <tbody>\n",
              "    <tr>\n",
              "      <th>1<\/th>\n",
              "      <td>Mg<\/td>\n",
              "      <td>MgO<\/td>\n",
              "      <td>-1202<\/td>\n",
              "      <td>-0.22<\/td>\n",
              "      <td>1365.0<\/td>\n",
              "      <td>-1459.0<\/td>\n",
              "      <td>-0.41<\/td>\n",
              "      <td>-803<\/td>\n",
              "      <td>1.645155e+26<\/td>\n",
              "      <td>6.078455e-27<\/td>\n",
              "      <td>1.256682e-08<\/td>\n",
              "    <\/tr>\n",
              "  <\/tbody>\n",
              "<\/table>\n",
              "<\/div>"
            ]
          },
          "metadata":{
            
          },
          "output_type":"display_data"
        }
      ],
      "metadata":{
        
      }
    },
    {
      "cell_type":"code",
      "source":[
        "from lets_plot import *\n",
        "ggplot(df2) + geom_bar(aes(fill=\"pH20\/pH2\", x=\"Metal\", y=\"pH20\/pH2\"), stat='identity')"
      ],
      "execution_count":28,
      "outputs":[
        {
          "data":{
            "text\/html":[
              "<html lang=\"en\">\n",
              "   <head>\n",
              "       <script type=\"text\/javascript\" data-lets-plot-script=\"library\" src=\"https:\/\/cdn.jsdelivr.net\/gh\/JetBrains\/lets-plot@v2.2.0\/js-package\/distr\/lets-plot.min.js\"><\/script>\n",
              "   <\/head>\n",
              "   <body>\n",
              "          <div id=\"4rnk0i\"><\/div>\n",
              "   <script type=\"text\/javascript\" data-lets-plot-script=\"plot\">\n",
              "       var plotSpec={\n",
              "\"data\":{\n",
              "\"Metal\":[\"Mg\"],\n",
              "\"pH20\/pH2\":[1.2566818893043558E-8]\n",
              "},\n",
              "\"mapping\":{\n",
              "},\n",
              "\"data_meta\":{\n",
              "},\n",
              "\"kind\":\"plot\",\n",
              "\"scales\":[],\n",
              "\"layers\":[{\n",
              "\"geom\":\"bar\",\n",
              "\"stat\":\"identity\",\n",
              "\"mapping\":{\n",
              "\"x\":\"Metal\",\n",
              "\"y\":\"pH20\/pH2\",\n",
              "\"fill\":\"pH20\/pH2\"\n",
              "},\n",
              "\"data_meta\":{\n",
              "},\n",
              "\"data\":{\n",
              "}\n",
              "}]\n",
              "};\n",
              "       var plotContainer = document.getElementById(\"4rnk0i\");\n",
              "       LetsPlot.buildPlotFromProcessedSpecs(plotSpec, -1, -1, plotContainer);\n",
              "   <\/script>\n",
              "   <\/body>\n",
              "<\/html>"
            ]
          },
          "metadata":{
            
          },
          "output_type":"display_data"
        }
      ],
      "metadata":{
        
      }
    }
  ],
  "metadata":{
    
  },
  "nbformat":4,
  "nbformat_minor":0
}
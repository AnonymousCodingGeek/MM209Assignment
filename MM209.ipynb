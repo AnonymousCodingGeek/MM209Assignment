{
  "cells":[
    {
      "cell_type":"code",
      "source":[
        "import numpy as np\n",
        "import pandas as pd\n",
        "pd.options.mode.chained_assignment = None"
      ],
      "execution_count":7,
      "outputs":[
        
      ],
      "metadata":{
        
      }
    },
    {
      "cell_type":"code",
      "source":[
        "df=pd.read_csv(\"MM209_Project - Sheet1.csv\")"
      ],
      "execution_count":8,
      "outputs":[
        
      ],
      "metadata":{
        
      }
    },
    {
      "cell_type":"code",
      "source":[
        "df"
      ],
      "execution_count":9,
      "outputs":[
        {
          "data":{
            "text\/html":[
              "<div>\n",
              "<style scoped>\n",
              "    .dataframe tbody tr th:only-of-type {\n",
              "        vertical-align: middle;\n",
              "    }\n",
              "\n",
              "    .dataframe tbody tr th {\n",
              "        vertical-align: top;\n",
              "    }\n",
              "\n",
              "    .dataframe thead th {\n",
              "        text-align: right;\n",
              "    }\n",
              "<\/style>\n",
              "<table border=\"1\" class=\"dataframe\">\n",
              "  <thead>\n",
              "    <tr style=\"text-align: right;\">\n",
              "      <th><\/th>\n",
              "      <th>Metal<\/th>\n",
              "      <th>Metal Oxide<\/th>\n",
              "      <th>DeltaH0<\/th>\n",
              "      <th>DeltaS0<\/th>\n",
              "      <th>Slope change T<\/th>\n",
              "      <th>New DeltaH0<\/th>\n",
              "      <th>New DeltaS0<\/th>\n",
              "    <\/tr>\n",
              "  <\/thead>\n",
              "  <tbody>\n",
              "    <tr>\n",
              "      <th>0<\/th>\n",
              "      <td>Ca<\/td>\n",
              "      <td>CaO<\/td>\n",
              "      <td>-1280<\/td>\n",
              "      <td>-0.22<\/td>\n",
              "      <td>NaN<\/td>\n",
              "      <td>NaN<\/td>\n",
              "      <td>NaN<\/td>\n",
              "    <\/tr>\n",
              "    <tr>\n",
              "      <th>1<\/th>\n",
              "      <td>Mg<\/td>\n",
              "      <td>MgO<\/td>\n",
              "      <td>-1202<\/td>\n",
              "      <td>-0.22<\/td>\n",
              "      <td>1365.0<\/td>\n",
              "      <td>-1459.0<\/td>\n",
              "      <td>-0.41<\/td>\n",
              "    <\/tr>\n",
              "    <tr>\n",
              "      <th>2<\/th>\n",
              "      <td>Al<\/td>\n",
              "      <td>Al2O3<\/td>\n",
              "      <td>-1125<\/td>\n",
              "      <td>-0.22<\/td>\n",
              "      <td>NaN<\/td>\n",
              "      <td>NaN<\/td>\n",
              "      <td>NaN<\/td>\n",
              "    <\/tr>\n",
              "    <tr>\n",
              "      <th>3<\/th>\n",
              "      <td>Ti<\/td>\n",
              "      <td>TiO2<\/td>\n",
              "      <td>-941<\/td>\n",
              "      <td>-0.18<\/td>\n",
              "      <td>NaN<\/td>\n",
              "      <td>NaN<\/td>\n",
              "      <td>NaN<\/td>\n",
              "    <\/tr>\n",
              "    <tr>\n",
              "      <th>4<\/th>\n",
              "      <td>Nb<\/td>\n",
              "      <td>NbO<\/td>\n",
              "      <td>-825<\/td>\n",
              "      <td>-0.17<\/td>\n",
              "      <td>NaN<\/td>\n",
              "      <td>NaN<\/td>\n",
              "      <td>NaN<\/td>\n",
              "    <\/tr>\n",
              "    <tr>\n",
              "      <th>5<\/th>\n",
              "      <td>Mn<\/td>\n",
              "      <td>MnO<\/td>\n",
              "      <td>-778<\/td>\n",
              "      <td>-0.15<\/td>\n",
              "      <td>NaN<\/td>\n",
              "      <td>NaN<\/td>\n",
              "      <td>NaN<\/td>\n",
              "    <\/tr>\n",
              "    <tr>\n",
              "      <th>6<\/th>\n",
              "      <td>Cr<\/td>\n",
              "      <td>Cr2O3<\/td>\n",
              "      <td>-740<\/td>\n",
              "      <td>-0.16<\/td>\n",
              "      <td>NaN<\/td>\n",
              "      <td>NaN<\/td>\n",
              "      <td>NaN<\/td>\n",
              "    <\/tr>\n",
              "    <tr>\n",
              "      <th>7<\/th>\n",
              "      <td>Fe<\/td>\n",
              "      <td>FeO<\/td>\n",
              "      <td>-538<\/td>\n",
              "      <td>-0.14<\/td>\n",
              "      <td>NaN<\/td>\n",
              "      <td>NaN<\/td>\n",
              "      <td>NaN<\/td>\n",
              "    <\/tr>\n",
              "    <tr>\n",
              "      <th>8<\/th>\n",
              "      <td>Co<\/td>\n",
              "      <td>CoO<\/td>\n",
              "      <td>-491<\/td>\n",
              "      <td>-0.16<\/td>\n",
              "      <td>NaN<\/td>\n",
              "      <td>NaN<\/td>\n",
              "      <td>NaN<\/td>\n",
              "    <\/tr>\n",
              "    <tr>\n",
              "      <th>9<\/th>\n",
              "      <td>Ni<\/td>\n",
              "      <td>NiO<\/td>\n",
              "      <td>-471<\/td>\n",
              "      <td>-0.17<\/td>\n",
              "      <td>NaN<\/td>\n",
              "      <td>NaN<\/td>\n",
              "      <td>NaN<\/td>\n",
              "    <\/tr>\n",
              "  <\/tbody>\n",
              "<\/table>\n",
              "<\/div>"
            ]
          },
          "metadata":{
            
          },
          "output_type":"display_data"
        }
      ],
      "metadata":{
        
      }
    },
    {
      "cell_type":"code",
      "source":[
        "#Code to add new metal\n",
        "#User can uncomment the below line and add a new metal to the above existing data frame after \n",
        "#entering the required values\n",
        "#df.loc[len(df.index)] =[Metal,Metal Oxide,DeltaH0,DeltaS0,Slope change T,New DeltaH0,New DeltaS0]"
      ],
      "execution_count":10,
      "outputs":[
        
      ],
      "metadata":{
        
      }
    },
    {
      "cell_type":"code",
      "source":[
        "#Data for formation of water from H2 and 02\n",
        "#2H2 + 02=2H20\n",
        "DeltaH0=-495*1000\n",
        "DeltaS0=-0.11*1000"
      ],
      "execution_count":11,
      "outputs":[
        
      ],
      "metadata":{
        
      }
    },
    {
      "cell_type":"code",
      "source":[
        "#Accepting the temperature value\n",
        "T=input(\"Enter the temperature: \")"
      ],
      "execution_count":12,
      "outputs":[
        {
          "name":"stdout",
          "text":[
            "Enter the temperature:  1000\n"
          ],
          "output_type":"stream"
        }
      ],
      "metadata":{
        
      }
    },
    {
      "cell_type":"code",
      "source":[
        "#Calculation of equilibrium constant for the reaction 2H2 + O2= 2H20\n",
        "T=int(T)\n",
        "DeltaG0= DeltaH0 -T * DeltaS0\n",
        "Kc=np.exp(-DeltaG0\/(8.314*T))"
      ],
      "execution_count":13,
      "outputs":[
        
      ],
      "metadata":{
        
      }
    },
    {
      "cell_type":"code",
      "source":[
        "df1=df[df['Slope change T'].isnull()] #DataFrame for metals with a linear DeltaG0\n",
        "df2=df[~(df['Slope change T'].isnull())]#DataFrame for metals with a DeltaG0 whose slope changes\n",
        "df1['DeltaG0']=df1['DeltaH0']-T*df1['DeltaS0']\n",
        "df1.dropna(axis=1,inplace=True)\n",
        "df2['DeltaG0']=0\n",
        "for ind in df2.index:\n",
        "    if T>=df2['Slope change T'][ind]:\n",
        "        df2['DeltaG0'][ind]=df2['New DeltaH0'][ind]-T*df2['New DeltaS0'][ind]\n",
        "    else:\n",
        "        df2['DeltaG0'][ind]=df2['DeltaH0'][ind]-T*df2['DeltaS0'][ind]"
      ],
      "execution_count":14,
      "outputs":[
        
      ],
      "metadata":{
        
      }
    },
    {
      "cell_type":"code",
      "source":[
        "df1['Kc']=np.exp(-df1['DeltaG0']*1000\/(8.314*T))\n",
        "df2['Kc']=np.exp(-df2['DeltaG0']*1000\/(8.314*T))\n",
        "#Kc=1\/p02\n",
        "df1['p02']=1\/(df1['Kc'])\n",
        "df2['p02']=1\/(df2['Kc'])"
      ],
      "execution_count":15,
      "outputs":[
        
      ],
      "metadata":{
        
      }
    },
    {
      "cell_type":"code",
      "source":[
        "#Kc for water formation = ((pH20\/pH2)^2)\/p02\n",
        "df1['pH20\/pH2']=np.sqrt(Kc*df1['p02'])\n",
        "df2['pH20\/pH2']=np.sqrt(Kc*df2['p02'])\n",
        "df1['ln(pH20\/pH2)']=np.log(np.sqrt(Kc*df1['p02']))\n",
        "df2['ln(pH20\/pH2)']=np.log(np.sqrt(Kc*df2['p02']))"
      ],
      "execution_count":16,
      "outputs":[
        
      ],
      "metadata":{
        
      }
    },
    {
      "cell_type":"code",
      "source":[
        "#Final DataFrame for the first group of metals\n",
        "df1"
      ],
      "execution_count":17,
      "outputs":[
        {
          "data":{
            "text\/html":[
              "<div>\n",
              "<style scoped>\n",
              "    .dataframe tbody tr th:only-of-type {\n",
              "        vertical-align: middle;\n",
              "    }\n",
              "\n",
              "    .dataframe tbody tr th {\n",
              "        vertical-align: top;\n",
              "    }\n",
              "\n",
              "    .dataframe thead th {\n",
              "        text-align: right;\n",
              "    }\n",
              "<\/style>\n",
              "<table border=\"1\" class=\"dataframe\">\n",
              "  <thead>\n",
              "    <tr style=\"text-align: right;\">\n",
              "      <th><\/th>\n",
              "      <th>Metal<\/th>\n",
              "      <th>Metal Oxide<\/th>\n",
              "      <th>DeltaH0<\/th>\n",
              "      <th>DeltaS0<\/th>\n",
              "      <th>DeltaG0<\/th>\n",
              "      <th>Kc<\/th>\n",
              "      <th>p02<\/th>\n",
              "      <th>pH20\/pH2<\/th>\n",
              "      <th>ln(pH20\/pH2)<\/th>\n",
              "    <\/tr>\n",
              "  <\/thead>\n",
              "  <tbody>\n",
              "    <tr>\n",
              "      <th>0<\/th>\n",
              "      <td>Ca<\/td>\n",
              "      <td>CaO<\/td>\n",
              "      <td>-1280<\/td>\n",
              "      <td>-0.22<\/td>\n",
              "      <td>-1060.0<\/td>\n",
              "      <td>2.348109e+55<\/td>\n",
              "      <td>4.258747e-56<\/td>\n",
              "      <td>2.345159e-18<\/td>\n",
              "      <td>-40.594178<\/td>\n",
              "    <\/tr>\n",
              "    <tr>\n",
              "      <th>2<\/th>\n",
              "      <td>Al<\/td>\n",
              "      <td>Al2O3<\/td>\n",
              "      <td>-1125<\/td>\n",
              "      <td>-0.22<\/td>\n",
              "      <td>-905.0<\/td>\n",
              "      <td>1.879562e+47<\/td>\n",
              "      <td>5.320390e-48<\/td>\n",
              "      <td>2.621218e-14<\/td>\n",
              "      <td>-31.272552<\/td>\n",
              "    <\/tr>\n",
              "    <tr>\n",
              "      <th>3<\/th>\n",
              "      <td>Ti<\/td>\n",
              "      <td>TiO2<\/td>\n",
              "      <td>-941<\/td>\n",
              "      <td>-0.18<\/td>\n",
              "      <td>-761.0<\/td>\n",
              "      <td>5.649327e+39<\/td>\n",
              "      <td>1.770122e-40<\/td>\n",
              "      <td>1.511935e-10<\/td>\n",
              "      <td>-22.612461<\/td>\n",
              "    <\/tr>\n",
              "    <tr>\n",
              "      <th>4<\/th>\n",
              "      <td>Nb<\/td>\n",
              "      <td>NbO<\/td>\n",
              "      <td>-825<\/td>\n",
              "      <td>-0.17<\/td>\n",
              "      <td>-655.0<\/td>\n",
              "      <td>1.640306e+34<\/td>\n",
              "      <td>6.096423e-35<\/td>\n",
              "      <td>8.872968e-08<\/td>\n",
              "      <td>-16.237671<\/td>\n",
              "    <\/tr>\n",
              "    <tr>\n",
              "      <th>5<\/th>\n",
              "      <td>Mn<\/td>\n",
              "      <td>MnO<\/td>\n",
              "      <td>-778<\/td>\n",
              "      <td>-0.15<\/td>\n",
              "      <td>-628.0<\/td>\n",
              "      <td>6.375859e+32<\/td>\n",
              "      <td>1.568416e-33<\/td>\n",
              "      <td>4.500513e-07<\/td>\n",
              "      <td>-14.613904<\/td>\n",
              "    <\/tr>\n",
              "    <tr>\n",
              "      <th>6<\/th>\n",
              "      <td>Cr<\/td>\n",
              "      <td>Cr2O3<\/td>\n",
              "      <td>-740<\/td>\n",
              "      <td>-0.16<\/td>\n",
              "      <td>-580.0<\/td>\n",
              "      <td>1.982373e+30<\/td>\n",
              "      <td>5.044459e-31<\/td>\n",
              "      <td>8.071210e-06<\/td>\n",
              "      <td>-11.727207<\/td>\n",
              "    <\/tr>\n",
              "    <tr>\n",
              "      <th>7<\/th>\n",
              "      <td>Fe<\/td>\n",
              "      <td>FeO<\/td>\n",
              "      <td>-538<\/td>\n",
              "      <td>-0.14<\/td>\n",
              "      <td>-398.0<\/td>\n",
              "      <td>6.167904e+20<\/td>\n",
              "      <td>1.621296e-21<\/td>\n",
              "      <td>4.575753e-01<\/td>\n",
              "      <td>-0.781814<\/td>\n",
              "    <\/tr>\n",
              "    <tr>\n",
              "      <th>8<\/th>\n",
              "      <td>Co<\/td>\n",
              "      <td>CoO<\/td>\n",
              "      <td>-491<\/td>\n",
              "      <td>-0.16<\/td>\n",
              "      <td>-331.0<\/td>\n",
              "      <td>1.951148e+17<\/td>\n",
              "      <td>5.125187e-18<\/td>\n",
              "      <td>2.572683e+01<\/td>\n",
              "      <td>3.247534<\/td>\n",
              "    <\/tr>\n",
              "    <tr>\n",
              "      <th>9<\/th>\n",
              "      <td>Ni<\/td>\n",
              "      <td>NiO<\/td>\n",
              "      <td>-471<\/td>\n",
              "      <td>-0.17<\/td>\n",
              "      <td>-301.0<\/td>\n",
              "      <td>5.286820e+15<\/td>\n",
              "      <td>1.891496e-16<\/td>\n",
              "      <td>1.562911e+02<\/td>\n",
              "      <td>5.051720<\/td>\n",
              "    <\/tr>\n",
              "  <\/tbody>\n",
              "<\/table>\n",
              "<\/div>"
            ]
          },
          "metadata":{
            
          },
          "output_type":"display_data"
        }
      ],
      "metadata":{
        
      }
    },
    {
      "cell_type":"code",
      "source":[
        "#Final Dataframe for the second group of metals\n",
        "df2"
      ],
      "execution_count":18,
      "outputs":[
        {
          "data":{
            "text\/html":[
              "<div>\n",
              "<style scoped>\n",
              "    .dataframe tbody tr th:only-of-type {\n",
              "        vertical-align: middle;\n",
              "    }\n",
              "\n",
              "    .dataframe tbody tr th {\n",
              "        vertical-align: top;\n",
              "    }\n",
              "\n",
              "    .dataframe thead th {\n",
              "        text-align: right;\n",
              "    }\n",
              "<\/style>\n",
              "<table border=\"1\" class=\"dataframe\">\n",
              "  <thead>\n",
              "    <tr style=\"text-align: right;\">\n",
              "      <th><\/th>\n",
              "      <th>Metal<\/th>\n",
              "      <th>Metal Oxide<\/th>\n",
              "      <th>DeltaH0<\/th>\n",
              "      <th>DeltaS0<\/th>\n",
              "      <th>Slope change T<\/th>\n",
              "      <th>New DeltaH0<\/th>\n",
              "      <th>New DeltaS0<\/th>\n",
              "      <th>DeltaG0<\/th>\n",
              "      <th>Kc<\/th>\n",
              "      <th>p02<\/th>\n",
              "      <th>pH20\/pH2<\/th>\n",
              "      <th>ln(pH20\/pH2)<\/th>\n",
              "    <\/tr>\n",
              "  <\/thead>\n",
              "  <tbody>\n",
              "    <tr>\n",
              "      <th>1<\/th>\n",
              "      <td>Mg<\/td>\n",
              "      <td>MgO<\/td>\n",
              "      <td>-1202<\/td>\n",
              "      <td>-0.22<\/td>\n",
              "      <td>1365.0<\/td>\n",
              "      <td>-1459.0<\/td>\n",
              "      <td>-0.41<\/td>\n",
              "      <td>-982<\/td>\n",
              "      <td>1.978195e+51<\/td>\n",
              "      <td>5.055113e-52<\/td>\n",
              "      <td>2.555035e-16<\/td>\n",
              "      <td>-35.903296<\/td>\n",
              "    <\/tr>\n",
              "  <\/tbody>\n",
              "<\/table>\n",
              "<\/div>"
            ]
          },
          "metadata":{
            
          },
          "output_type":"display_data"
        }
      ],
      "metadata":{
        
      }
    },
    {
      "cell_type":"code",
      "source":[
        "#Joining the 2 we get our final dataframe which contains all the values\n",
        "df3=pd.concat([df1.drop(['DeltaH0','DeltaS0'],axis=1),df2.drop(['DeltaH0','DeltaS0','Slope change T','New DeltaH0','New DeltaS0'],axis=1)])\n",
        "df3.sort_index(inplace=True)\n",
        "df3"
      ],
      "execution_count":19,
      "outputs":[
        {
          "data":{
            "text\/html":[
              "<div>\n",
              "<style scoped>\n",
              "    .dataframe tbody tr th:only-of-type {\n",
              "        vertical-align: middle;\n",
              "    }\n",
              "\n",
              "    .dataframe tbody tr th {\n",
              "        vertical-align: top;\n",
              "    }\n",
              "\n",
              "    .dataframe thead th {\n",
              "        text-align: right;\n",
              "    }\n",
              "<\/style>\n",
              "<table border=\"1\" class=\"dataframe\">\n",
              "  <thead>\n",
              "    <tr style=\"text-align: right;\">\n",
              "      <th><\/th>\n",
              "      <th>Metal<\/th>\n",
              "      <th>Metal Oxide<\/th>\n",
              "      <th>DeltaG0<\/th>\n",
              "      <th>Kc<\/th>\n",
              "      <th>p02<\/th>\n",
              "      <th>pH20\/pH2<\/th>\n",
              "      <th>ln(pH20\/pH2)<\/th>\n",
              "    <\/tr>\n",
              "  <\/thead>\n",
              "  <tbody>\n",
              "    <tr>\n",
              "      <th>0<\/th>\n",
              "      <td>Ca<\/td>\n",
              "      <td>CaO<\/td>\n",
              "      <td>-1060.0<\/td>\n",
              "      <td>2.348109e+55<\/td>\n",
              "      <td>4.258747e-56<\/td>\n",
              "      <td>2.345159e-18<\/td>\n",
              "      <td>-40.594178<\/td>\n",
              "    <\/tr>\n",
              "    <tr>\n",
              "      <th>1<\/th>\n",
              "      <td>Mg<\/td>\n",
              "      <td>MgO<\/td>\n",
              "      <td>-982.0<\/td>\n",
              "      <td>1.978195e+51<\/td>\n",
              "      <td>5.055113e-52<\/td>\n",
              "      <td>2.555035e-16<\/td>\n",
              "      <td>-35.903296<\/td>\n",
              "    <\/tr>\n",
              "    <tr>\n",
              "      <th>2<\/th>\n",
              "      <td>Al<\/td>\n",
              "      <td>Al2O3<\/td>\n",
              "      <td>-905.0<\/td>\n",
              "      <td>1.879562e+47<\/td>\n",
              "      <td>5.320390e-48<\/td>\n",
              "      <td>2.621218e-14<\/td>\n",
              "      <td>-31.272552<\/td>\n",
              "    <\/tr>\n",
              "    <tr>\n",
              "      <th>3<\/th>\n",
              "      <td>Ti<\/td>\n",
              "      <td>TiO2<\/td>\n",
              "      <td>-761.0<\/td>\n",
              "      <td>5.649327e+39<\/td>\n",
              "      <td>1.770122e-40<\/td>\n",
              "      <td>1.511935e-10<\/td>\n",
              "      <td>-22.612461<\/td>\n",
              "    <\/tr>\n",
              "    <tr>\n",
              "      <th>4<\/th>\n",
              "      <td>Nb<\/td>\n",
              "      <td>NbO<\/td>\n",
              "      <td>-655.0<\/td>\n",
              "      <td>1.640306e+34<\/td>\n",
              "      <td>6.096423e-35<\/td>\n",
              "      <td>8.872968e-08<\/td>\n",
              "      <td>-16.237671<\/td>\n",
              "    <\/tr>\n",
              "    <tr>\n",
              "      <th>5<\/th>\n",
              "      <td>Mn<\/td>\n",
              "      <td>MnO<\/td>\n",
              "      <td>-628.0<\/td>\n",
              "      <td>6.375859e+32<\/td>\n",
              "      <td>1.568416e-33<\/td>\n",
              "      <td>4.500513e-07<\/td>\n",
              "      <td>-14.613904<\/td>\n",
              "    <\/tr>\n",
              "    <tr>\n",
              "      <th>6<\/th>\n",
              "      <td>Cr<\/td>\n",
              "      <td>Cr2O3<\/td>\n",
              "      <td>-580.0<\/td>\n",
              "      <td>1.982373e+30<\/td>\n",
              "      <td>5.044459e-31<\/td>\n",
              "      <td>8.071210e-06<\/td>\n",
              "      <td>-11.727207<\/td>\n",
              "    <\/tr>\n",
              "    <tr>\n",
              "      <th>7<\/th>\n",
              "      <td>Fe<\/td>\n",
              "      <td>FeO<\/td>\n",
              "      <td>-398.0<\/td>\n",
              "      <td>6.167904e+20<\/td>\n",
              "      <td>1.621296e-21<\/td>\n",
              "      <td>4.575753e-01<\/td>\n",
              "      <td>-0.781814<\/td>\n",
              "    <\/tr>\n",
              "    <tr>\n",
              "      <th>8<\/th>\n",
              "      <td>Co<\/td>\n",
              "      <td>CoO<\/td>\n",
              "      <td>-331.0<\/td>\n",
              "      <td>1.951148e+17<\/td>\n",
              "      <td>5.125187e-18<\/td>\n",
              "      <td>2.572683e+01<\/td>\n",
              "      <td>3.247534<\/td>\n",
              "    <\/tr>\n",
              "    <tr>\n",
              "      <th>9<\/th>\n",
              "      <td>Ni<\/td>\n",
              "      <td>NiO<\/td>\n",
              "      <td>-301.0<\/td>\n",
              "      <td>5.286820e+15<\/td>\n",
              "      <td>1.891496e-16<\/td>\n",
              "      <td>1.562911e+02<\/td>\n",
              "      <td>5.051720<\/td>\n",
              "    <\/tr>\n",
              "  <\/tbody>\n",
              "<\/table>\n",
              "<\/div>"
            ]
          },
          "metadata":{
            
          },
          "output_type":"display_data"
        }
      ],
      "metadata":{
        
      }
    },
    {
      "cell_type":"code",
      "source":[
        "#Dataframe showing the pH20\/pH2 values clearly\n",
        "df3[['Metal','Metal Oxide','pH20\/pH2','ln(pH20\/pH2)']]"
      ],
      "execution_count":26,
      "outputs":[
        {
          "data":{
            "text\/html":[
              "<div>\n",
              "<style scoped>\n",
              "    .dataframe tbody tr th:only-of-type {\n",
              "        vertical-align: middle;\n",
              "    }\n",
              "\n",
              "    .dataframe tbody tr th {\n",
              "        vertical-align: top;\n",
              "    }\n",
              "\n",
              "    .dataframe thead th {\n",
              "        text-align: right;\n",
              "    }\n",
              "<\/style>\n",
              "<table border=\"1\" class=\"dataframe\">\n",
              "  <thead>\n",
              "    <tr style=\"text-align: right;\">\n",
              "      <th><\/th>\n",
              "      <th>Metal<\/th>\n",
              "      <th>Metal Oxide<\/th>\n",
              "      <th>pH20\/pH2<\/th>\n",
              "      <th>ln(pH20\/pH2)<\/th>\n",
              "    <\/tr>\n",
              "  <\/thead>\n",
              "  <tbody>\n",
              "    <tr>\n",
              "      <th>0<\/th>\n",
              "      <td>Ca<\/td>\n",
              "      <td>CaO<\/td>\n",
              "      <td>2.345159e-18<\/td>\n",
              "      <td>-40.594178<\/td>\n",
              "    <\/tr>\n",
              "    <tr>\n",
              "      <th>1<\/th>\n",
              "      <td>Mg<\/td>\n",
              "      <td>MgO<\/td>\n",
              "      <td>2.555035e-16<\/td>\n",
              "      <td>-35.903296<\/td>\n",
              "    <\/tr>\n",
              "    <tr>\n",
              "      <th>2<\/th>\n",
              "      <td>Al<\/td>\n",
              "      <td>Al2O3<\/td>\n",
              "      <td>2.621218e-14<\/td>\n",
              "      <td>-31.272552<\/td>\n",
              "    <\/tr>\n",
              "    <tr>\n",
              "      <th>3<\/th>\n",
              "      <td>Ti<\/td>\n",
              "      <td>TiO2<\/td>\n",
              "      <td>1.511935e-10<\/td>\n",
              "      <td>-22.612461<\/td>\n",
              "    <\/tr>\n",
              "    <tr>\n",
              "      <th>4<\/th>\n",
              "      <td>Nb<\/td>\n",
              "      <td>NbO<\/td>\n",
              "      <td>8.872968e-08<\/td>\n",
              "      <td>-16.237671<\/td>\n",
              "    <\/tr>\n",
              "    <tr>\n",
              "      <th>5<\/th>\n",
              "      <td>Mn<\/td>\n",
              "      <td>MnO<\/td>\n",
              "      <td>4.500513e-07<\/td>\n",
              "      <td>-14.613904<\/td>\n",
              "    <\/tr>\n",
              "    <tr>\n",
              "      <th>6<\/th>\n",
              "      <td>Cr<\/td>\n",
              "      <td>Cr2O3<\/td>\n",
              "      <td>8.071210e-06<\/td>\n",
              "      <td>-11.727207<\/td>\n",
              "    <\/tr>\n",
              "    <tr>\n",
              "      <th>7<\/th>\n",
              "      <td>Fe<\/td>\n",
              "      <td>FeO<\/td>\n",
              "      <td>4.575753e-01<\/td>\n",
              "      <td>-0.781814<\/td>\n",
              "    <\/tr>\n",
              "    <tr>\n",
              "      <th>8<\/th>\n",
              "      <td>Co<\/td>\n",
              "      <td>CoO<\/td>\n",
              "      <td>2.572683e+01<\/td>\n",
              "      <td>3.247534<\/td>\n",
              "    <\/tr>\n",
              "    <tr>\n",
              "      <th>9<\/th>\n",
              "      <td>Ni<\/td>\n",
              "      <td>NiO<\/td>\n",
              "      <td>1.562911e+02<\/td>\n",
              "      <td>5.051720<\/td>\n",
              "    <\/tr>\n",
              "  <\/tbody>\n",
              "<\/table>\n",
              "<\/div>"
            ]
          },
          "metadata":{
            
          },
          "output_type":"display_data"
        }
      ],
      "metadata":{
        
      }
    },
    {
      "cell_type":"code",
      "source":[
        "from lets_plot import *\n",
        "ggplot(df3) + geom_bar(aes(fill=\"pH20\/pH2\", x=\"Metal\", y=\"pH20\/pH2\"), stat='identity')"
      ],
      "execution_count":21,
      "outputs":[
        {
          "data":{
            "text\/html":[
              "<html lang=\"en\">\n",
              "   <head>\n",
              "       <script type=\"text\/javascript\" data-lets-plot-script=\"library\" src=\"https:\/\/cdn.jsdelivr.net\/gh\/JetBrains\/lets-plot@v2.2.0\/js-package\/distr\/lets-plot.min.js\"><\/script>\n",
              "   <\/head>\n",
              "   <body>\n",
              "          <div id=\"BYYTjh\"><\/div>\n",
              "   <script type=\"text\/javascript\" data-lets-plot-script=\"plot\">\n",
              "       var plotSpec={\n",
              "\"data\":{\n",
              "\"Metal\":[\"Ca\",\"Mg\",\"Al \",\"Ti \",\"Nb\",\"Mn \",\"Cr \",\"Fe \",\"Co \",\"Ni \"],\n",
              "\"pH20\/pH2\":[2.3451589445343543E-18,2.5550347951226527E-16,2.6212176993138632E-14,1.5119345966393456E-10,8.872967954833561E-8,4.5005130126071673E-7,8.071210228901659E-6,0.4575753043979668,25.726826483458275,156.29105254223367]\n",
              "},\n",
              "\"mapping\":{\n",
              "},\n",
              "\"data_meta\":{\n",
              "},\n",
              "\"kind\":\"plot\",\n",
              "\"scales\":[],\n",
              "\"layers\":[{\n",
              "\"geom\":\"bar\",\n",
              "\"stat\":\"identity\",\n",
              "\"mapping\":{\n",
              "\"x\":\"Metal\",\n",
              "\"y\":\"pH20\/pH2\",\n",
              "\"fill\":\"pH20\/pH2\"\n",
              "},\n",
              "\"data_meta\":{\n",
              "},\n",
              "\"data\":{\n",
              "}\n",
              "}]\n",
              "};\n",
              "       var plotContainer = document.getElementById(\"BYYTjh\");\n",
              "       LetsPlot.buildPlotFromProcessedSpecs(plotSpec, -1, -1, plotContainer);\n",
              "   <\/script>\n",
              "   <\/body>\n",
              "<\/html>"
            ]
          },
          "metadata":{
            
          },
          "output_type":"display_data"
        }
      ],
      "metadata":{
        
      }
    },
    {
      "cell_type":"code",
      "source":[
        "from lets_plot import *\n",
        "ggplot(df3) + geom_bar(aes(fill=\"ln(pH20\/pH2)\", x=\"Metal\", y=\"ln(pH20\/pH2)\"), stat='identity')"
      ],
      "execution_count":22,
      "outputs":[
        {
          "data":{
            "text\/html":[
              "<html lang=\"en\">\n",
              "   <head>\n",
              "       <script type=\"text\/javascript\" data-lets-plot-script=\"library\" src=\"https:\/\/cdn.jsdelivr.net\/gh\/JetBrains\/lets-plot@v2.2.0\/js-package\/distr\/lets-plot.min.js\"><\/script>\n",
              "   <\/head>\n",
              "   <body>\n",
              "          <div id=\"IyDWRw\"><\/div>\n",
              "   <script type=\"text\/javascript\" data-lets-plot-script=\"plot\">\n",
              "       var plotSpec={\n",
              "\"data\":{\n",
              "\"Metal\":[\"Ca\",\"Mg\",\"Al \",\"Ti \",\"Nb\",\"Mn \",\"Cr \",\"Fe \",\"Co \",\"Ni \"],\n",
              "\"ln(pH20\/pH2)\":[-40.59417849410633,-35.90329564589849,-31.272552321385614,-22.6124609093096,-16.237671397642533,-14.613904257878279,-11.727207120519605,-0.7818138080346414,3.247534279528505,5.051719990377677]\n",
              "},\n",
              "\"mapping\":{\n",
              "},\n",
              "\"data_meta\":{\n",
              "},\n",
              "\"kind\":\"plot\",\n",
              "\"scales\":[],\n",
              "\"layers\":[{\n",
              "\"geom\":\"bar\",\n",
              "\"stat\":\"identity\",\n",
              "\"mapping\":{\n",
              "\"x\":\"Metal\",\n",
              "\"y\":\"ln(pH20\/pH2)\",\n",
              "\"fill\":\"ln(pH20\/pH2)\"\n",
              "},\n",
              "\"data_meta\":{\n",
              "},\n",
              "\"data\":{\n",
              "}\n",
              "}]\n",
              "};\n",
              "       var plotContainer = document.getElementById(\"IyDWRw\");\n",
              "       LetsPlot.buildPlotFromProcessedSpecs(plotSpec, -1, -1, plotContainer);\n",
              "   <\/script>\n",
              "   <\/body>\n",
              "<\/html>"
            ]
          },
          "metadata":{
            
          },
          "output_type":"display_data"
        }
      ],
      "metadata":{
        
      }
    },
    {
      "cell_type":"code",
      "source":[
        "from lets_plot import *\n",
        "ggplot(df3) + geom_line(aes(color=\"ln(pH20\/pH2)\", x=\"Metal\", y=\"ln(pH20\/pH2)\"))"
      ],
      "execution_count":23,
      "outputs":[
        {
          "data":{
            "text\/html":[
              "<html lang=\"en\">\n",
              "   <head>\n",
              "       <script type=\"text\/javascript\" data-lets-plot-script=\"library\" src=\"https:\/\/cdn.jsdelivr.net\/gh\/JetBrains\/lets-plot@v2.2.0\/js-package\/distr\/lets-plot.min.js\"><\/script>\n",
              "   <\/head>\n",
              "   <body>\n",
              "          <div id=\"s3jM3D\"><\/div>\n",
              "   <script type=\"text\/javascript\" data-lets-plot-script=\"plot\">\n",
              "       var plotSpec={\n",
              "\"data\":{\n",
              "\"Metal\":[\"Ca\",\"Mg\",\"Al \",\"Ti \",\"Nb\",\"Mn \",\"Cr \",\"Fe \",\"Co \",\"Ni \"],\n",
              "\"ln(pH20\/pH2)\":[-40.59417849410633,-35.90329564589849,-31.272552321385614,-22.6124609093096,-16.237671397642533,-14.613904257878279,-11.727207120519605,-0.7818138080346414,3.247534279528505,5.051719990377677]\n",
              "},\n",
              "\"mapping\":{\n",
              "},\n",
              "\"data_meta\":{\n",
              "},\n",
              "\"kind\":\"plot\",\n",
              "\"scales\":[],\n",
              "\"layers\":[{\n",
              "\"geom\":\"line\",\n",
              "\"mapping\":{\n",
              "\"x\":\"Metal\",\n",
              "\"y\":\"ln(pH20\/pH2)\",\n",
              "\"color\":\"ln(pH20\/pH2)\"\n",
              "},\n",
              "\"data_meta\":{\n",
              "},\n",
              "\"data\":{\n",
              "}\n",
              "}]\n",
              "};\n",
              "       var plotContainer = document.getElementById(\"s3jM3D\");\n",
              "       LetsPlot.buildPlotFromProcessedSpecs(plotSpec, -1, -1, plotContainer);\n",
              "   <\/script>\n",
              "   <\/body>\n",
              "<\/html>"
            ]
          },
          "metadata":{
            
          },
          "output_type":"display_data"
        }
      ],
      "metadata":{
        
      }
    }
  ],
  "metadata":{
    
  },
  "nbformat":4,
  "nbformat_minor":0
}